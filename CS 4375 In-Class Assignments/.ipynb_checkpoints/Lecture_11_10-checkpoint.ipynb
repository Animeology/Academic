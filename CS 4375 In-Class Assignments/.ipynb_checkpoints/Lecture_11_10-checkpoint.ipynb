{
 "cells": [
  {
   "cell_type": "code",
   "execution_count": 1,
   "metadata": {
    "id": "Xd6ozV0vPY0M"
   },
   "outputs": [
    {
     "ename": "ModuleNotFoundError",
     "evalue": "No module named 'tensorflow'",
     "output_type": "error",
     "traceback": [
      "\u001b[1;31m---------------------------------------------------------------------------\u001b[0m",
      "\u001b[1;31mModuleNotFoundError\u001b[0m                       Traceback (most recent call last)",
      "Input \u001b[1;32mIn [1]\u001b[0m, in \u001b[0;36m<cell line: 2>\u001b[1;34m()\u001b[0m\n\u001b[0;32m      1\u001b[0m \u001b[38;5;66;03m# Introduction to Regression with Neural Networks in Tensorflow\u001b[39;00m\n\u001b[1;32m----> 2\u001b[0m \u001b[38;5;28;01mimport\u001b[39;00m \u001b[38;5;21;01mtensorflow\u001b[39;00m \u001b[38;5;28;01mas\u001b[39;00m \u001b[38;5;21;01mtf\u001b[39;00m\n\u001b[0;32m      3\u001b[0m \u001b[38;5;28;01mfrom\u001b[39;00m \u001b[38;5;21;01mtensorflow\u001b[39;00m \u001b[38;5;28;01mimport\u001b[39;00m keras\n\u001b[0;32m      4\u001b[0m \u001b[38;5;28;01mimport\u001b[39;00m \u001b[38;5;21;01mmatplotlib\u001b[39;00m\u001b[38;5;21;01m.\u001b[39;00m\u001b[38;5;21;01mpyplot\u001b[39;00m \u001b[38;5;28;01mas\u001b[39;00m \u001b[38;5;21;01mplt\u001b[39;00m\n",
      "\u001b[1;31mModuleNotFoundError\u001b[0m: No module named 'tensorflow'"
     ]
    }
   ],
   "source": [
    "# Introduction to Regression with Neural Networks in Tensorflow\n",
    "import tensorflow as tf\n",
    "from tensorflow import keras\n",
    "import matplotlib.pyplot as plt\n",
    "%matplotlib inline\n",
    "import numpy as np"
   ]
  },
  {
   "cell_type": "code",
   "execution_count": null,
   "metadata": {
    "colab": {
     "base_uri": "https://localhost:8080/"
    },
    "id": "_Y6w6hKmYfni",
    "outputId": "713481e9-6365-4078-fd69-fb3962b856d8"
   },
   "outputs": [],
   "source": [
    "(X_train, y_train), (X_test, y_test) = keras.datasets.mnist.load_data()"
   ]
  },
  {
   "cell_type": "code",
   "execution_count": null,
   "metadata": {
    "colab": {
     "base_uri": "https://localhost:8080/"
    },
    "id": "D-uWiebaZfGY",
    "outputId": "d3847ba2-d5bf-45a9-b147-9429b1008954"
   },
   "outputs": [],
   "source": [
    "len(X_train)"
   ]
  },
  {
   "cell_type": "code",
   "execution_count": null,
   "metadata": {
    "colab": {
     "base_uri": "https://localhost:8080/"
    },
    "id": "ycXfEqPAZs5x",
    "outputId": "0015756a-46d3-4e45-ca50-7d9a8d61ac2c"
   },
   "outputs": [],
   "source": [
    "X_train[0].shape #28 pixels by 28 pixels"
   ]
  },
  {
   "cell_type": "code",
   "execution_count": null,
   "metadata": {
    "colab": {
     "base_uri": "https://localhost:8080/"
    },
    "id": "EmdMFYYRZy-C",
    "outputId": "5451aa25-fb72-44bb-d9f2-666e78170eb1"
   },
   "outputs": [],
   "source": [
    "X_train.shape #legnth and width"
   ]
  },
  {
   "cell_type": "code",
   "execution_count": null,
   "metadata": {
    "colab": {
     "base_uri": "https://localhost:8080/",
     "height": 293
    },
    "id": "bgozGMEkZ_LG",
    "outputId": "4d0cb0db-563d-4053-dc60-b86af9114010"
   },
   "outputs": [],
   "source": [
    "plt.matshow(X_train[0])"
   ]
  },
  {
   "cell_type": "code",
   "execution_count": null,
   "metadata": {
    "colab": {
     "base_uri": "https://localhost:8080/"
    },
    "id": "Q86ph80gaJkQ",
    "outputId": "fe016d07-9469-4877-accc-edf27994adf7"
   },
   "outputs": [],
   "source": [
    "y_train.shape"
   ]
  },
  {
   "cell_type": "code",
   "execution_count": null,
   "metadata": {
    "colab": {
     "base_uri": "https://localhost:8080/"
    },
    "id": "MBzuVCafak9V",
    "outputId": "dacff2b5-012d-4a03-9119-0175329f94a0"
   },
   "outputs": [],
   "source": [
    "X_train "
   ]
  },
  {
   "cell_type": "code",
   "execution_count": null,
   "metadata": {
    "id": "bcSFw-05ay2D"
   },
   "outputs": [],
   "source": [
    "# this is all needed for scaling.\n",
    "X_train = X_train/255\n",
    "X_test = X_test/255\n",
    "X_train_flattened = X_train.reshape(len(X_train), 28*28)"
   ]
  },
  {
   "cell_type": "code",
   "execution_count": null,
   "metadata": {
    "colab": {
     "base_uri": "https://localhost:8080/"
    },
    "id": "AoVCBMegbc2g",
    "outputId": "b4ffa47a-aab6-41de-fd21-8ed93d797ffe"
   },
   "outputs": [],
   "source": [
    "X_train_flattened"
   ]
  },
  {
   "cell_type": "code",
   "execution_count": null,
   "metadata": {
    "colab": {
     "base_uri": "https://localhost:8080/"
    },
    "id": "rDoe7aLibgnI",
    "outputId": "5999fef2-9b06-41ba-ff67-3f7fe17fcd0c"
   },
   "outputs": [],
   "source": [
    "X_train_flattened.shape"
   ]
  },
  {
   "cell_type": "code",
   "execution_count": null,
   "metadata": {
    "id": "IPAqPxdTbik5"
   },
   "outputs": [],
   "source": [
    "## Steps in modeling with TensorFlow\n",
    "# 1. Creating a model: define input and output layers, as well as the hidden layers of deep learning model\n",
    "# 2. Compile a model: \n",
    "#    2a. define the loss function (in other words, the function which tells our model how wrong it is)\n",
    "#    2b. and the optimizer (tells our model how to improve the patterns in learning.)\n",
    "#    2c. evaluation metrics (what we can use to interpret the performance of our model)\n",
    "# 3. Fitting a model: letting the model try to find patterns between X & y (features and labels)"
   ]
  },
  {
   "cell_type": "code",
   "execution_count": null,
   "metadata": {
    "id": "hqWQh9vbcyZD"
   },
   "outputs": [],
   "source": [
    "# 1. Get data ready (turn into tensors) impage to numbers\n",
    "# 2. Build or pick a pretrained model\n",
    "# 3. Fit the model to the data and make predictions\n",
    "# 4. Evaluate the model\n",
    "# 5. Improve through experimentation\n",
    "# 6. Save and reload train model."
   ]
  },
  {
   "cell_type": "code",
   "execution_count": null,
   "metadata": {
    "id": "Kb19mzHVdpPz"
   },
   "outputs": [],
   "source": [
    "# Sigmoid, leaky Relu, Relu, tanh\n",
    "model = keras.Sequential([\n",
    "    keras.layers.Dense(10, activation='sigmoid', input_shape=(784,))\n",
    "])\n",
    "model.compile(optimizer='adam',\n",
    "              loss = 'sparse_categorical_crossentropy',\n",
    "              metrics = ['accuracy']\n",
    ")"
   ]
  },
  {
   "cell_type": "code",
   "execution_count": null,
   "metadata": {
    "colab": {
     "base_uri": "https://localhost:8080/"
    },
    "id": "GxPMesQWeQS8",
    "outputId": "05f69e6d-1957-4c37-cf72-be932c475db2"
   },
   "outputs": [],
   "source": [
    "model.fit(X_train_flattened, y_train, epochs=5)"
   ]
  },
  {
   "cell_type": "code",
   "execution_count": null,
   "metadata": {
    "colab": {
     "base_uri": "https://localhost:8080/"
    },
    "id": "BuVblEnXej10",
    "outputId": "bd3d7f87-7026-4dec-91e2-af07469a1c8e"
   },
   "outputs": [],
   "source": [
    "# Scale the values\n",
    "X_test_flattened = X_test.reshape(len(X_test), 28*28)\n",
    "model.evaluate(X_test_flattened)"
   ]
  },
  {
   "cell_type": "code",
   "execution_count": null,
   "metadata": {
    "colab": {
     "base_uri": "https://localhost:8080/"
    },
    "id": "M5gJ4Uv6fWjT",
    "outputId": "3c3be825-9e28-4ee2-b8b0-683bff7aa322"
   },
   "outputs": [],
   "source": [
    "model.evaluate(X_test_flattened, y_test)"
   ]
  },
  {
   "cell_type": "code",
   "execution_count": null,
   "metadata": {
    "id": "0vZql8lyffts"
   },
   "outputs": [],
   "source": []
  }
 ],
 "metadata": {
  "colab": {
   "collapsed_sections": [],
   "provenance": []
  },
  "kernelspec": {
   "display_name": "Python 3 (ipykernel)",
   "language": "python",
   "name": "python3"
  },
  "language_info": {
   "codemirror_mode": {
    "name": "ipython",
    "version": 3
   },
   "file_extension": ".py",
   "mimetype": "text/x-python",
   "name": "python",
   "nbconvert_exporter": "python",
   "pygments_lexer": "ipython3",
   "version": "3.9.12"
  }
 },
 "nbformat": 4,
 "nbformat_minor": 1
}
